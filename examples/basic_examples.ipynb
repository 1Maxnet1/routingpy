{
 "cells": [
  {
   "cell_type": "code",
   "execution_count": null,
   "metadata": {},
   "outputs": [],
   "source": [
    "import folium\n",
    "from pprint import pprint\n",
    "\n",
    "m = folium.Map(location=[47.376558, 8.540497], tiles='cartodbpositron', zoom_start=13)\n",
    "\n",
    "coordinates = [[8.512516, 47.380742], [8.557835, 47.359467]]"
   ]
  },
  {
   "cell_type": "markdown",
   "metadata": {},
   "source": [
    "## 1. Directions"
   ]
  },
  {
   "cell_type": "code",
   "execution_count": null,
   "metadata": {},
   "outputs": [],
   "source": [
    "from routingpy import ORS\n",
    "\n",
    "api = ORS(api_key=key_ors)\n",
    "\n",
    "route = api.directions(locations=coordinates,\n",
    "                      profile='driving-car')\n",
    "\n",
    "# Access the geometry object as [[lon, lat], ...] list from the geometry \n",
    "folium.PolyLine(locations=[list(reversed(coord)) for coord in route.geometry]).add_to(m)\n",
    "\n",
    "# Other attributes are duration and distance\n",
    "print(\"Duration in seconds: {}\".format(route.duration))\n",
    "print(\"Distance in meters: {}\".format(route.distance))\n",
    "m"
   ]
  },
  {
   "cell_type": "markdown",
   "metadata": {},
   "source": [
    "## 2. Isochrones"
   ]
  },
  {
   "cell_type": "code",
   "execution_count": null,
   "metadata": {
    "scrolled": true
   },
   "outputs": [],
   "source": [
    "from routingpy import MapboxValhalla\n",
    "\n",
    "api = MapboxValhalla(api_key=key_mapbox)\n",
    "\n",
    "isochrones = api.isochrones(locations=coordinates[0],\n",
    "                      profile='auto',\n",
    "                      intervals=[100,200])\n",
    "\n",
    "for isochrone in isochrones:\n",
    "    folium.Polygon(locations=[list(reversed(coord)) for coord in isochrone.geometry],\n",
    "                  fill='00ff00',\n",
    "                  opacity=0.5).add_to(m)\n",
    "    \n",
    "m"
   ]
  },
  {
   "cell_type": "markdown",
   "metadata": {},
   "source": [
    "## 3. Matrix"
   ]
  },
  {
   "cell_type": "code",
   "execution_count": null,
   "metadata": {},
   "outputs": [],
   "source": [
    "from routingpy import HereMaps\n",
    "\n",
    "api = HereMaps(app_id=here_id, app_code=here_code)\n",
    "\n",
    "matrix = api.matrix(locations=coordinates,\n",
    "                   profile='car')\n",
    "\n",
    "pprint(matrix.durations)\n",
    "pprint(matrix.raw)"
   ]
  }
 ],
 "metadata": {
  "kernelspec": {
   "display_name": "Python 3",
   "language": "python",
   "name": "python3"
  },
  "language_info": {
   "codemirror_mode": {
    "name": "ipython",
    "version": 3
   },
   "file_extension": ".py",
   "mimetype": "text/x-python",
   "name": "python",
   "nbconvert_exporter": "python",
   "pygments_lexer": "ipython3",
   "version": "3.7.2"
  }
 },
 "nbformat": 4,
 "nbformat_minor": 1
}
